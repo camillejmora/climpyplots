{
 "cells": [
  {
   "cell_type": "markdown",
   "metadata": {},
   "source": [
    "## News scraping for extreme event impacts"
   ]
  },
  {
   "cell_type": "code",
   "execution_count": 25,
   "metadata": {},
   "outputs": [],
   "source": [
    "import requests\n",
    "from bs4 import BeautifulSoup\n",
    "import pandas as pd\n",
    "\n",
    "URL = \"https://www.worldweatherattribution.org/2023/page/\"\n",
    "page = requests.get(URL)\n",
    "\n",
    "soup = BeautifulSoup(page.content, \"html.parser\")\n",
    "\n",
    "# Assuming 'entry-title' is the correct class for the div containing the titles\n",
    "job_elements = soup.find_all(\"rel\", class_=\"bookmark\")\n",
    "\n",
    "# Initialize an empty list to store the scraped data\n",
    "data = []\n",
    "\n",
    "for job_element in job_elements:\n",
    "    title_element = job_element.find(\"h2\")\n",
    "    if title_element:\n",
    "        title = title_element.text.strip()  # Extract text and strip whitespace\n",
    "        data.append({\"Title\": title})\n",
    "\n",
    "# Convert the list of dictionaries to a DataFrame\n",
    "df = pd.DataFrame(data)\n",
    "\n",
    "# Save the DataFrame to an Excel file\n",
    "df.to_excel('scraped_titles.xlsx', index=False)"
   ]
  }
 ],
 "metadata": {
  "kernelspec": {
   "display_name": "newsscrape",
   "language": "python",
   "name": "python3"
  },
  "language_info": {
   "codemirror_mode": {
    "name": "ipython",
    "version": 3
   },
   "file_extension": ".py",
   "mimetype": "text/x-python",
   "name": "python",
   "nbconvert_exporter": "python",
   "pygments_lexer": "ipython3",
   "version": "3.11.9"
  }
 },
 "nbformat": 4,
 "nbformat_minor": 2
}
